{
  "nbformat": 4,
  "nbformat_minor": 0,
  "metadata": {
    "colab": {
      "name": "svm_mlp.ipynb",
      "provenance": []
    },
    "kernelspec": {
      "name": "python3",
      "display_name": "Python 3"
    }
  },
  "cells": [
    {
      "cell_type": "code",
      "metadata": {
        "id": "RHXBQa8MUXHd"
      },
      "source": [
        "import numpy as np\n",
        "import pandas as pd\n",
        "import matplotlib.pyplot as plt\n",
        "import copy\n",
        "from sklearn import svm"
      ],
      "execution_count": null,
      "outputs": []
    },
    {
      "cell_type": "code",
      "metadata": {
        "id": "391-y55bU-E8"
      },
      "source": [
        "#importing the dataset and doing preprocessing...\n",
        "\n",
        "#Handling missing values...\n",
        "dataset = dataset.fillna(dataset.mean())"
      ],
      "execution_count": null,
      "outputs": []
    },
    {
      "cell_type": "code",
      "metadata": {
        "id": "HYUeaE7lZ20r"
      },
      "source": [
        "#splits dataset into train, test in ratio 80:20 and does normalization on data\n",
        "def train_test_split(s_dataset):\n",
        "    features = s_dataset.columns\n",
        "    k = int(len(s_dataset.index)*0.8)\n",
        "    training_data = s_dataset.iloc[:k].reset_index(drop=True)\n",
        "    testing_data = s_dataset.iloc[k:].reset_index(drop=True)\n",
        "    scalar = preprocessing.StandardScaler()\n",
        "    training_data = scalar.fit_transform(training_data)\n",
        "    testing_data = scalar.transform(testing_data)\n",
        "    return pd.DataFrame(data = training_data, columns = features), pd.DataFrame(data = testing_data, columns = features)"
      ],
      "execution_count": null,
      "outputs": []
    },
    {
      "cell_type": "code",
      "metadata": {
        "id": "8S5nH55haPdZ"
      },
      "source": [
        "# splitting into train_X, train_Y, test_X, test_Y\n",
        "dataset = dataset.sample(frac = 1, random_state = 0).reset_index(drop = True)\n",
        "training_data,testing_data = train_test_split(dataset)\n",
        "train_X = copy.deepcopy(training_data)\n",
        "train_X = train_X.drop(['Class'], axis = 1)\n",
        "train_Y = copy.deepcopy(training_data)\n",
        "train_Y = train_Y['Class']\n",
        "test_X = copy.deepcopy(testing_data)\n",
        "test_X = test_X.drop(['Class'], axis = 1)\n",
        "test_Y = copy.deepcopy(testing_data)\n",
        "test_Y = test_Y['Class']"
      ],
      "execution_count": null,
      "outputs": []
    },
    {
      "cell_type": "code",
      "metadata": {
        "id": "PeNi8DKDaoMn"
      },
      "source": [
        "#binary svm classifier\n",
        "clf = svm.SVC(C = 1, kernel = 'linear')\n",
        "clf = clf.fit(train_X,train_Y)\n",
        "clf.score(test_X,test_Y)"
      ],
      "execution_count": null,
      "outputs": []
    }
  ]
}